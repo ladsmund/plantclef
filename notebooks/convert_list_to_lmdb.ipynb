{
 "cells": [
  {
   "cell_type": "code",
   "execution_count": 5,
   "metadata": {
    "collapsed": true
   },
   "outputs": [],
   "source": [
    "import sys\n",
    "import os\n",
    "import xml.etree.ElementTree as ET"
   ]
  },
  {
   "cell_type": "code",
   "execution_count": 6,
   "metadata": {
    "collapsed": false
   },
   "outputs": [
    {
     "name": "stdout",
     "output_type": "stream",
     "text": [
      "train\n",
      "data/train\n"
     ]
    }
   ],
   "source": [
    "data_path = \"data\"\n",
    " \n",
    "for id in ['test', 'train']:\n",
    "#for id in ['train']:\n",
    "\n",
    "    print id\n",
    "    \n",
    "    list_file_path = os.path.join(data_path,id+\".txt\")\n",
    "    collection_path = os.path.join(data_path, id)\n",
    "    print collection_path\n",
    "    xml_files = !ls $collection_path/*.xml\n",
    "    jpg_files = !ls $collection_path/*.jpg\n",
    "\n",
    "\n",
    "    list_file = open(list_file_path, 'w')\n",
    "    for f in xml_files:    \n",
    "        root = ET.parse(f).getroot()\n",
    "\n",
    "        class_id = root.find('ClassId').text\n",
    "\n",
    "        image_filename = os.path.splitext(os.path.basename(f))[0] + \".jpg\"\n",
    "        asset_line = \"%s %s\\n\" % (image_filename, class_id)\n",
    "        list_file.write(asset_line)\n",
    "    list_file.close()\n"
   ]
  },
  {
   "cell_type": "markdown",
   "metadata": {
    "collapsed": false,
    "scrolled": true
   },
   "source": [
    "import numpy as np\n",
    "import caffe\n",
    "import lmdb\n",
    "from PIL import Image\n",
    "\n",
    "\n",
    "lmdb_path = os.path.join(data_path,\"test_data_lmdb\")\n",
    "\n",
    "ngray = 0\n",
    "\n",
    "#in_db = lmdb.open(lmdb_path, map_size=int(1e12))\n",
    "in_db = lmdb.open(lmdb_path, map_size=int(8*2**30))\n",
    "with in_db.begin(write=True) as in_txn:\n",
    "    for in_idx, in_ in enumerate(jpg_files):\n",
    "        # load image:\n",
    "        # - as np.uint8 {0, ..., 255}\n",
    "        # - in BGR (switch from RGB)\n",
    "        # - in Channel x Height x Width order (switch from H x W x C)\n",
    "        im = np.array(Image.open(in_)) # or load whatever ndarray you need\n",
    "        if len(im.shape) < 3:\n",
    "            ngray += 1\n",
    "            continue\n",
    "        im = im[:,:,::-1]\n",
    "        im = im.transpose((2,0,1))\n",
    "        im_dat = caffe.io.array_to_datum(im)\n",
    "        in_txn.put('{:0>10d}'.format(in_idx), im_dat.SerializeToString())\n",
    "        if not in_idx % 100:\n",
    "            print \"%6i, ngrey=%i\"%(in_idx, ngray)  \n",
    "        if in_idx >= 3000:\n",
    "            break\n",
    "in_db.close()"
   ]
  },
  {
   "cell_type": "code",
   "execution_count": null,
   "metadata": {
    "collapsed": false
   },
   "outputs": [],
   "source": []
  },
  {
   "cell_type": "code",
   "execution_count": 140,
   "metadata": {
    "collapsed": false
   },
   "outputs": [],
   "source": [
    "\n"
   ]
  },
  {
   "cell_type": "code",
   "execution_count": null,
   "metadata": {
    "collapsed": true
   },
   "outputs": [],
   "source": []
  }
 ],
 "metadata": {
  "kernelspec": {
   "display_name": "Python 2",
   "language": "python",
   "name": "python2"
  },
  "language_info": {
   "codemirror_mode": {
    "name": "ipython",
    "version": 2
   },
   "file_extension": ".py",
   "mimetype": "text/x-python",
   "name": "python",
   "nbconvert_exporter": "python",
   "pygments_lexer": "ipython2",
   "version": "2.7.11"
  }
 },
 "nbformat": 4,
 "nbformat_minor": 0
}
