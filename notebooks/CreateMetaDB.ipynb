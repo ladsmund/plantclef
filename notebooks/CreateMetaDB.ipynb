{
 "cells": [
  {
   "cell_type": "code",
   "execution_count": 117,
   "metadata": {
    "collapsed": true
   },
   "outputs": [],
   "source": [
    "import os\n",
    "import sqlite3\n",
    "import xml.etree.ElementTree as ET\n",
    "import numpy as np\n",
    "import matplotlib.pyplot as plt\n",
    "%matplotlib inline\n",
    "\n",
    "os.chdir('/home/ffw/workspace/plantCLEF/')"
   ]
  },
  {
   "cell_type": "code",
   "execution_count": 118,
   "metadata": {
    "collapsed": false
   },
   "outputs": [],
   "source": [
    "database_path = \"data/metadata.db\"\n",
    "\n",
    "conn = sqlite3.connect(database_path)\n",
    "c = conn.cursor()\n",
    "c.execute(\"DROP TABLE IF EXISTS images\")\n",
    "c.execute(\"\"\"CREATE TABLE IF NOT EXISTS images (\n",
    "MediaId INTEGER PRIMARY KEY, \n",
    "ClassId INTEGER,\n",
    "ObservationId INTEGER,\n",
    "FileName TEXT,\n",
    "Content TEXT,\n",
    "Species TEXT,\n",
    "Genus TEXT,\n",
    "Family TEXT,\n",
    "Date TEXT,\n",
    "Vote INTEGER,\n",
    "Location TEXT,\n",
    "Latitude TEXT,\n",
    "Longitude TEXT,\n",
    "Author TEXT,\n",
    "YearInCLEF TEXT,\n",
    "test_set BOOLEAN,\n",
    "img_width INTEGER,\n",
    "img_height INTEGER,\n",
    "img_depth INTEGER, \n",
    "img_class INTEGER\n",
    ")\"\"\")\n",
    "conn.commit()\n",
    "conn.close()"
   ]
  },
  {
   "cell_type": "code",
   "execution_count": null,
   "metadata": {
    "collapsed": true
   },
   "outputs": [],
   "source": []
  },
  {
   "cell_type": "code",
   "execution_count": 68,
   "metadata": {
    "collapsed": false,
    "scrolled": true
   },
   "outputs": [
    {
     "name": "stdout",
     "output_type": "stream",
     "text": [
      "0/91758\n",
      "1000/91758\n",
      "2000/91758\n",
      "3000/91758\n",
      "4000/91758\n",
      "5000/91758\n",
      "6000/91758\n",
      "7000/91758\n",
      "8000/91758\n",
      "9000/91758\n",
      "10000/91758\n",
      "11000/91758\n",
      "12000/91758\n",
      "13000/91758\n",
      "14000/91758\n",
      "15000/91758\n",
      "16000/91758\n",
      "17000/91758\n",
      "18000/91758\n",
      "19000/91758\n",
      "20000/91758\n",
      "21000/91758\n",
      "22000/91758\n",
      "23000/91758\n",
      "24000/91758\n",
      "25000/91758\n",
      "26000/91758\n",
      "27000/91758\n",
      "28000/91758\n",
      "29000/91758\n",
      "30000/91758\n",
      "31000/91758\n",
      "32000/91758\n",
      "33000/91758\n",
      "34000/91758\n",
      "35000/91758\n",
      "36000/91758\n",
      "37000/91758\n",
      "38000/91758\n",
      "39000/91758\n",
      "40000/91758\n",
      "41000/91758\n",
      "42000/91758\n",
      "43000/91758\n",
      "44000/91758\n",
      "45000/91758\n",
      "46000/91758\n",
      "47000/91758\n",
      "48000/91758\n",
      "49000/91758\n",
      "50000/91758\n",
      "51000/91758\n",
      "52000/91758\n",
      "53000/91758\n",
      "54000/91758\n",
      "55000/91758\n",
      "56000/91758\n",
      "57000/91758\n",
      "58000/91758\n",
      "59000/91758\n",
      "60000/91758\n",
      "61000/91758\n",
      "62000/91758\n",
      "63000/91758\n",
      "64000/91758\n",
      "65000/91758\n",
      "66000/91758\n",
      "67000/91758\n",
      "68000/91758\n",
      "69000/91758\n",
      "70000/91758\n",
      "71000/91758\n",
      "72000/91758\n",
      "73000/91758\n",
      "74000/91758\n",
      "75000/91758\n",
      "76000/91758\n",
      "77000/91758\n",
      "78000/91758\n",
      "79000/91758\n",
      "80000/91758\n",
      "81000/91758\n",
      "82000/91758\n",
      "83000/91758\n",
      "84000/91758\n",
      "85000/91758\n",
      "86000/91758\n",
      "87000/91758\n",
      "88000/91758\n",
      "89000/91758\n",
      "90000/91758\n",
      "91000/91758\n"
     ]
    }
   ],
   "source": [
    "assets = []\n",
    "get_text = lambda x: \"\" if x is None else x.text\n",
    "for data_set in ['train', 'test']:\n",
    "\n",
    "    images = !ls data/$data_set/*.jpg\n",
    "\n",
    "    test_set = (data_set == 'test')\n",
    "    for i, img in enumerate(images):\n",
    "        base_id = int(os.path.splitext(os.path.basename(img))[0])\n",
    "        xml = os.path.splitext(img)[0] + '.xml'\n",
    "        root = ET.parse(xml).getroot()\n",
    "\n",
    "        MediaId = int(get_text(root.find('MediaId')))\n",
    "        ClassId = int(get_text(root.find('ClassId')))\n",
    "        ObservationId = int(get_text(root.find('ObservationId')))\n",
    "        FileName = img\n",
    "        Content = get_text(root.find('Content'))\n",
    "        Species = get_text(root.find('Species'))\n",
    "        Genus = get_text(root.find('Genus'))\n",
    "        Family = get_text(root.find('Family'))\n",
    "        Date = get_text(root.find('Date'))\n",
    "        Vote = get_text(root.find('Vote'))\n",
    "        Location = get_text(root.find('Location'))\n",
    "        Latitude = get_text(root.find('Latitude'))\n",
    "        Longitude = get_text(root.find('Longitude'))\n",
    "        Author = get_text(root.find('Author'))\n",
    "        YearInCLEF = get_text(root.find('YearInCLEF'))\n",
    "\n",
    "        meta_str = !identify $img    \n",
    "        metadata = meta_str[0].split()\n",
    "        img_width, img_height = map(int, metadata[2].split('x'))    \n",
    "        img_depth = metadata[4]        \n",
    "        img_class = metadata[5]\n",
    "\n",
    "        assets.append((MediaId, ClassId, ObservationId, FileName, Content, Species, \n",
    "    Genus, Family, Date, Vote, Location, Latitude, Longitude, Author,\n",
    "     YearInCLEF, test_set, img_width, img_height, img_depth, img_class))\n",
    "\n",
    "    #    assets.append((base_id, class_id, shape[0], shape[1], depth, img_class, test_set))\n",
    "        if not i % 10000:\n",
    "            print \"%i/%i\"%(i, len(images))"
   ]
  },
  {
   "cell_type": "code",
   "execution_count": 28,
   "metadata": {
    "collapsed": false
   },
   "outputs": [
    {
     "name": "stdout",
     "output_type": "stream",
     "text": [
      "\n"
     ]
    }
   ],
   "source": []
  },
  {
   "cell_type": "code",
   "execution_count": 119,
   "metadata": {
    "collapsed": false
   },
   "outputs": [],
   "source": [
    "conn = sqlite3.connect(database_path)\n",
    "c = conn.cursor()\n",
    "c.executemany('INSERT INTO images VALUES (?,?,?,?,?,?,?,?,?,?,?,?,?,?,?,?,?,?,?,?)', assets)\n",
    "conn.commit()\n",
    "conn.close()"
   ]
  },
  {
   "cell_type": "code",
   "execution_count": null,
   "metadata": {
    "collapsed": false
   },
   "outputs": [],
   "source": []
  },
  {
   "cell_type": "code",
   "execution_count": null,
   "metadata": {
    "collapsed": false
   },
   "outputs": [],
   "source": []
  },
  {
   "cell_type": "code",
   "execution_count": 121,
   "metadata": {
    "collapsed": false
   },
   "outputs": [
    {
     "ename": "OperationalError",
     "evalue": "duplicate column name: imgresize_width",
     "output_type": "error",
     "traceback": [
      "\u001b[1;31m---------------------------------------------------------------------------\u001b[0m",
      "\u001b[1;31mOperationalError\u001b[0m                          Traceback (most recent call last)",
      "\u001b[1;32m<ipython-input-121-6e7032a92bf6>\u001b[0m in \u001b[0;36m<module>\u001b[1;34m()\u001b[0m\n\u001b[0;32m      1\u001b[0m \u001b[0mconn\u001b[0m \u001b[1;33m=\u001b[0m \u001b[0msqlite3\u001b[0m\u001b[1;33m.\u001b[0m\u001b[0mconnect\u001b[0m\u001b[1;33m(\u001b[0m\u001b[1;34m'metadata.db'\u001b[0m\u001b[1;33m)\u001b[0m\u001b[1;33m\u001b[0m\u001b[0m\n\u001b[0;32m      2\u001b[0m \u001b[0mc\u001b[0m \u001b[1;33m=\u001b[0m \u001b[0mconn\u001b[0m\u001b[1;33m.\u001b[0m\u001b[0mcursor\u001b[0m\u001b[1;33m(\u001b[0m\u001b[1;33m)\u001b[0m\u001b[1;33m\u001b[0m\u001b[0m\n\u001b[1;32m----> 3\u001b[1;33m \u001b[0mc\u001b[0m\u001b[1;33m.\u001b[0m\u001b[0mexecute\u001b[0m\u001b[1;33m(\u001b[0m\u001b[1;34m\"ALTER TABLE images ADD COLUMN imgresize_width INTEGER\"\u001b[0m\u001b[1;33m)\u001b[0m\u001b[1;33m\u001b[0m\u001b[0m\n\u001b[0m\u001b[0;32m      4\u001b[0m \u001b[0mc\u001b[0m\u001b[1;33m.\u001b[0m\u001b[0mexecute\u001b[0m\u001b[1;33m(\u001b[0m\u001b[1;34m\"ALTER TABLE images ADD COLUMN FileNameResize TEXT\"\u001b[0m\u001b[1;33m)\u001b[0m\u001b[1;33m\u001b[0m\u001b[0m\n\u001b[0;32m      5\u001b[0m \u001b[0mconn\u001b[0m\u001b[1;33m.\u001b[0m\u001b[0mcommit\u001b[0m\u001b[1;33m(\u001b[0m\u001b[1;33m)\u001b[0m\u001b[1;33m\u001b[0m\u001b[0m\n",
      "\u001b[1;31mOperationalError\u001b[0m: duplicate column name: imgresize_width"
     ]
    }
   ],
   "source": [
    "conn = sqlite3.connect(database_path)\n",
    "c = conn.cursor()\n",
    "c.execute(\"ALTER TABLE images ADD COLUMN imgresize_width INTEGER\")\n",
    "c.execute(\"ALTER TABLE images ADD COLUMN FileNameResize TEXT\")\n",
    "conn.commit()\n",
    "conn.close()\n",
    "\n"
   ]
  },
  {
   "cell_type": "code",
   "execution_count": null,
   "metadata": {
    "collapsed": false
   },
   "outputs": [],
   "source": []
  },
  {
   "cell_type": "code",
   "execution_count": null,
   "metadata": {
    "collapsed": false
   },
   "outputs": [],
   "source": [
    "\n"
   ]
  },
  {
   "cell_type": "code",
   "execution_count": null,
   "metadata": {
    "collapsed": false
   },
   "outputs": [],
   "source": [
    "\n"
   ]
  },
  {
   "cell_type": "code",
   "execution_count": null,
   "metadata": {
    "collapsed": false
   },
   "outputs": [],
   "source": []
  },
  {
   "cell_type": "code",
   "execution_count": null,
   "metadata": {
    "collapsed": true
   },
   "outputs": [],
   "source": []
  },
  {
   "cell_type": "code",
   "execution_count": null,
   "metadata": {
    "collapsed": false
   },
   "outputs": [],
   "source": []
  },
  {
   "cell_type": "code",
   "execution_count": null,
   "metadata": {
    "collapsed": false
   },
   "outputs": [],
   "source": [
    "\n"
   ]
  },
  {
   "cell_type": "code",
   "execution_count": null,
   "metadata": {
    "collapsed": true
   },
   "outputs": [],
   "source": []
  }
 ],
 "metadata": {
  "kernelspec": {
   "display_name": "Python 2",
   "language": "python",
   "name": "python2"
  },
  "language_info": {
   "codemirror_mode": {
    "name": "ipython",
    "version": 2
   },
   "file_extension": ".py",
   "mimetype": "text/x-python",
   "name": "python",
   "nbconvert_exporter": "python",
   "pygments_lexer": "ipython2",
   "version": "2.7.11"
  }
 },
 "nbformat": 4,
 "nbformat_minor": 0
}
