{
 "cells": [
  {
   "cell_type": "code",
   "execution_count": 1,
   "metadata": {
    "collapsed": true
   },
   "outputs": [],
   "source": [
    "import os\n",
    "import sys\n",
    "\n",
    "# Set working directory\n",
    "plant_clef_root = '/home/ffw/workspace/plantCLEF/'\n",
    "os.chdir(plant_clef_root)\n",
    "\n",
    "data_dir = os.path.join(plant_clef_root, 'data')\n",
    "\n",
    "import numpy as np\n",
    "import sklearn\n",
    "import scipy\n",
    "import scipy.misc\n",
    "import time\n",
    "import logging\n",
    "\n",
    "import matplotlib.pyplot as plt\n",
    "%matplotlib inline\n",
    "\n",
    "from utilities import *\n",
    "import mcl\n",
    "\n",
    "import caffe\n",
    "from caffe import layers as L\n",
    "caffe.set_mode_gpu()\n",
    "\n",
    "import mcl.nets.scatnet_net\n",
    "reload(mcl.nets.scatnet_net)\n",
    "from mcl.nets.scatnet_net import scatnet, gen_prototxt, get_layers_sizes\n",
    "\n"
   ]
  },
  {
   "cell_type": "code",
   "execution_count": 2,
   "metadata": {
    "collapsed": false
   },
   "outputs": [
    {
     "name": "stdout",
     "output_type": "stream",
     "text": [
      "/tmp/tmpmnPSwf\n"
     ]
    }
   ],
   "source": [
    "\n",
    "print mcl.nets.speciesnet(train=False)\n"
   ]
  },
  {
   "cell_type": "code",
   "execution_count": null,
   "metadata": {
    "collapsed": true
   },
   "outputs": [],
   "source": []
  }
 ],
 "metadata": {
  "kernelspec": {
   "display_name": "Python 2",
   "language": "python",
   "name": "python2"
  },
  "language_info": {
   "codemirror_mode": {
    "name": "ipython",
    "version": 2
   },
   "file_extension": ".py",
   "mimetype": "text/x-python",
   "name": "python",
   "nbconvert_exporter": "python",
   "pygments_lexer": "ipython2",
   "version": "2.7.11"
  }
 },
 "nbformat": 4,
 "nbformat_minor": 0
}
