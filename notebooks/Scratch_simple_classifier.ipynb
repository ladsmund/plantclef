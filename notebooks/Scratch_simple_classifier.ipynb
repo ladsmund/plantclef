{
 "cells": [
  {
   "cell_type": "code",
   "execution_count": 118,
   "metadata": {
    "collapsed": false
   },
   "outputs": [
    {
     "name": "stdout",
     "output_type": "stream",
     "text": [
      "/home/ffw/workspace/plantCLEF/data\n"
     ]
    }
   ],
   "source": [
    "import os\n",
    "import sys\n",
    "\n",
    "# Set working directory\n",
    "plant_clef_root = '/home/ffw/workspace/plantCLEF/'\n",
    "os.chdir(plant_clef_root)\n",
    "\n",
    "data_dir = os.path.join(plant_clef_root, 'data')\n",
    "print data_dir\n",
    "import numpy as np\n",
    "import sklearn\n",
    "import scipy\n",
    "import scipy.misc\n",
    "import time\n",
    "import logging\n",
    "import tempfile\n",
    "import pprint\n",
    "\n",
    "import matplotlib.pyplot as plt\n",
    "%matplotlib inline\n",
    "\n",
    "from utilities import *\n",
    "import mcl\n",
    "\n",
    "import caffe\n",
    "from caffe.proto import caffe_pb2\n",
    "\n",
    "from caffe import layers as L\n",
    "from caffe import params as P\n",
    "caffe.set_mode_gpu()\n",
    "\n",
    "import mcl.solvers as mcl_solvers\n",
    "import mcl.nets.scatnet_net\n",
    "reload(mcl.nets.scatnet_net)\n",
    "from mcl.nets.scatnet_net import scatnet, gen_prototxt, get_layers_sizes"
   ]
  },
  {
   "cell_type": "code",
   "execution_count": 312,
   "metadata": {
    "collapsed": true
   },
   "outputs": [],
   "source": [
    "\n",
    "\n",
    "weight_param = dict(lr_mult=1, decay_mult=1)\n",
    "bias_param = dict(lr_mult=2, decay_mult=0)\n",
    "learned_param = [weight_param, bias_param]\n",
    "frozen_param = [dict(lr_mult=0)] * 2\n",
    "\n",
    "\n",
    "def fc_relu(bottom, nout, param=learned_param,\n",
    "            weight_filler=dict(type='gaussian', std=0.005).copy(),\n",
    "            bias_filler=dict(type='constant', value=0.1).copy()):\n",
    "    fc = L.InnerProduct(bottom, num_output=nout, param=param,\n",
    "                        weight_filler=weight_filler,\n",
    "                        bias_filler=bias_filler)\n",
    "    return fc, L.ReLU(fc, in_place=True)\n",
    "\n",
    "\n",
    "\n",
    "def my_net(data, label=None, train=True, num_classes=10,\n",
    "             classifier_name='fc8', learn_all=False, output_path = None):\n",
    "    n = caffe.NetSpec()\n",
    "    n.data = data\n",
    "    n.label = label\n",
    "    \n",
    "    n.conv1 = L.Convolution(n.data, kernel_size=5, num_output=20, weight_filler=dict(type='xavier'))\n",
    "    n.pool1 = L.Pooling(n.conv1, kernel_size=2, stride=2, pool=P.Pooling.MAX)\n",
    "    n.conv2 = L.Convolution(n.pool1, kernel_size=5, num_output=50, weight_filler=dict(type='xavier'))\n",
    "    n.pool2 = L.Pooling(n.conv2, kernel_size=2, stride=2, pool=P.Pooling.MAX)\n",
    "    n.fc1 =   L.InnerProduct(n.pool2, num_output=500, weight_filler=dict(type='xavier'))\n",
    "#    n.fc1 =   L.InnerProduct(n.data, num_output=500, weight_filler=dict(type='xavier'))\n",
    "#    n.fc2 =   L.InnerProduct(n.fc1, num_output=500, weight_filler=dict(type='xavier'))\n",
    "\n",
    "    n.relu1 = L.ReLU(n.fc1, in_place=True)\n",
    "    n.score = L.InnerProduct(n.relu1, num_output=num_classes, weight_filler=dict(type='xavier'))\n",
    "    n.loss =  L.SoftmaxWithLoss(n.score, n.label)\n",
    "    # write the net to a temporary file and return its filename\n",
    "    if output_path:\n",
    "        with open(output_path, 'w+') as f:\n",
    "            f.write(str(n.to_proto()))\n",
    "            return f.name\n",
    "    else:\n",
    "        with tempfile.NamedTemporaryFile(delete=False) as f:\n",
    "            f.write(str(n.to_proto()))\n",
    "            return f.name\n"
   ]
  },
  {
   "cell_type": "code",
   "execution_count": 313,
   "metadata": {
    "collapsed": false
   },
   "outputs": [],
   "source": [
    "def my_solver(train_net_path, \n",
    "              test_net_path=None, \n",
    "              base_lr=0.001, \n",
    "              snapshot_prefix=data_dir+'snapshot_'):\n",
    "    s = caffe_pb2.SolverParameter()\n",
    "\n",
    "    # Specify locations of the train and (maybe) test networks.\n",
    "    s.train_net = train_net_path\n",
    "    if test_net_path is not None:\n",
    "        s.test_net.append(test_net_path)\n",
    "        s.test_interval = 1000  # Test after every 1000 training iterations.\n",
    "        s.test_iter.append(100)  # Test on 100 batches each time we test.\n",
    "\n",
    "    s.iter_size = 1\n",
    "\n",
    "    s.max_iter = 100000  # # of times to update the net (training iterations)\n",
    "\n",
    "    s.type = 'SGD'\n",
    "\n",
    "    s.base_lr = base_lr\n",
    "\n",
    "    s.lr_policy = 'inv'\n",
    "    s.gamma = .0001\n",
    "    s.power = 0.75\n",
    "    s.stepsize = 20000\n",
    "    \n",
    "    s.momentum = 0.9\n",
    "    s.weight_decay = 5e-4\n",
    "\n",
    "    s.display = 100\n",
    "\n",
    "    s.snapshot = 10000\n",
    "    s.snapshot_prefix = snapshot_prefix\n",
    "\n",
    "    s.solver_mode = caffe_pb2.SolverParameter.GPU\n",
    "\n",
    "    with tempfile.NamedTemporaryFile(delete=False) as f:\n",
    "        f.write(str(s))\n",
    "        return f.name\n"
   ]
  },
  {
   "cell_type": "code",
   "execution_count": 314,
   "metadata": {
    "collapsed": false
   },
   "outputs": [],
   "source": [
    "BATCH_SIZE = 64\n",
    "\n",
    "L.Data()\n",
    "\n",
    "data_layer, label_layer = L.Data(\n",
    "    batch_size=BATCH_SIZE, \n",
    "    backend=P.Data.LMDB, \n",
    "    source='/home/ffw/workspace/plantCLEF/data/train_lmdb',\n",
    "    ntop=2)\n",
    "\n",
    "\n",
    "data_layer, label_layer = L.Data(\n",
    "    batch_size=BATCH_SIZE, \n",
    "    backend=P.Data.LMDB, \n",
    "    transform_param=dict(scale=1./255),\n",
    "    source='/home/ffw/workspace/caffe/examples/mnist/mnist_train_lmdb/',\n",
    "    ntop=2)\n",
    "\n",
    "data_layer_test, label_layer_test = L.Data(\n",
    "    batch_size=BATCH_SIZE, \n",
    "    backend=P.Data.LMDB, \n",
    "    transform_param=dict(scale=1./255),\n",
    "    source='/home/ffw/workspace/caffe/examples/mnist/mnist_test_lmdb/',\n",
    "    ntop=2)\n",
    "\n",
    "\n",
    "\n",
    "#train_data_path = os.path.join(plant_clef_root, 'data', 'train.txt')\n",
    "#transform_param = dict(mirror=False, crop_size=227)\n",
    "#data_layer, label_layer = L.ImageData(transform_param=transform_param,\n",
    "#                                          source=train_data_path,\n",
    "#                                          batch_size=BATCH_SIZE,\n",
    "#                                          new_height=256,\n",
    "#                                          new_width=256,\n",
    "#                                          ntop=2)\n",
    "#\n"
   ]
  },
  {
   "cell_type": "code",
   "execution_count": 328,
   "metadata": {
    "collapsed": false
   },
   "outputs": [],
   "source": [
    "proto_file = my_net(data_layer, \n",
    "                    label_layer, \n",
    "                    classifier_name='scratch', \n",
    "                    num_classes=10, \n",
    "                    train=True)\n",
    "\n",
    "proto_file_test = my_net(data_layer_test, \n",
    "                    label_layer_test, \n",
    "                    classifier_name='scratch', \n",
    "                    num_classes=10, \n",
    "                    train=False)\n",
    "\n",
    "\n",
    "solver_proto = my_solver(proto_file, proto_file_test, base_lr=0.01)"
   ]
  },
  {
   "cell_type": "code",
   "execution_count": 329,
   "metadata": {
    "collapsed": false
   },
   "outputs": [
    {
     "name": "stdout",
     "output_type": "stream",
     "text": [
      "train_net: \"/tmp/tmp81_UEI\"\r\n",
      "test_net: \"/tmp/tmpHg3iW5\"\r\n",
      "test_iter: 100\r\n",
      "test_interval: 1000\r\n",
      "base_lr: 0.01\r\n",
      "display: 100\r\n",
      "max_iter: 100000\r\n",
      "lr_policy: \"inv\"\r\n",
      "gamma: 0.0001\r\n",
      "power: 0.75\r\n",
      "momentum: 0.9\r\n",
      "weight_decay: 0.0005\r\n",
      "stepsize: 20000\r\n",
      "snapshot: 10000\r\n",
      "snapshot_prefix: \"/home/ffw/workspace/plantCLEF/datasnapshot_\"\r\n",
      "solver_mode: GPU\r\n",
      "iter_size: 1\r\n",
      "type: \"SGD\"\r\n"
     ]
    }
   ],
   "source": [
    "!cat $solver_proto"
   ]
  },
  {
   "cell_type": "code",
   "execution_count": 339,
   "metadata": {
    "collapsed": false
   },
   "outputs": [],
   "source": [
    "caffe.set_device(0)\n",
    "caffe.set_mode_gpu()\n",
    "\n",
    "solver = None\n",
    "solver = caffe.SGDSolver(solver_proto)"
   ]
  },
  {
   "cell_type": "code",
   "execution_count": 331,
   "metadata": {
    "collapsed": false
   },
   "outputs": [
    {
     "data": {
      "text/plain": [
       "{'loss': array(2.390608310699463, dtype=float32)}"
      ]
     },
     "execution_count": 331,
     "metadata": {},
     "output_type": "execute_result"
    }
   ],
   "source": [
    "solver.net.forward()  # train net\n",
    "solver.test_nets[0].forward()  # test net (there can be more than one)"
   ]
  },
  {
   "cell_type": "code",
   "execution_count": 338,
   "metadata": {
    "collapsed": false
   },
   "outputs": [],
   "source": [
    "# we use a little trick to tile the first eight images\n",
    "#plt.imshow(solver.net.blobs['data'].data[:8, 0].transpose(1, 0, 2).reshape(28, 8*28), cmap='gray'); \n",
    "#plt.axis('off')\n",
    "#plt.show();\n",
    "#print 'train labels:', solver.net.blobs['label'].data[:8]\n",
    "\n",
    "#plt.imshow(solver.test_nets[0].blobs['data'].data[:8, 0].transpose(1, 0, 2).reshape(28, 8*28), cmap='gray'); \n",
    "#plt.axis('off')\n",
    "#plt.show();\n",
    "#print 'test labels:', solver.test_nets[0].blobs['label'].data[:8]\n"
   ]
  },
  {
   "cell_type": "code",
   "execution_count": 333,
   "metadata": {
    "collapsed": false
   },
   "outputs": [],
   "source": [
    "\n",
    "#solver.net.forward()\n",
    "solver.step(1)\n",
    "#print \"loss: %.4f\" % (solver.net.blobs['loss'].data)\n",
    "#print \"acc:  %.4f\" % (solver.net.blobs['acc'].data)"
   ]
  },
  {
   "cell_type": "code",
   "execution_count": 334,
   "metadata": {
    "collapsed": false
   },
   "outputs": [
    {
     "data": {
      "text/plain": [
       "(-0.5, 24.5, 19.5, -0.5)"
      ]
     },
     "execution_count": 334,
     "metadata": {},
     "output_type": "execute_result"
    },
    {
     "data": {
      "image/png": "[encoded data removed]",
      "text/plain": [
       "<matplotlib.figure.Figure at 0x7fdb8cdfdbd0>"
      ]
     },
     "metadata": {},
     "output_type": "display_data"
    }
   ],
   "source": [
    "plt.imshow(solver.net.params['conv1'][0].diff[:, 0].reshape(4, 5, 5, 5)\n",
    "       .transpose(0, 2, 1, 3).reshape(4*5, 5*5), cmap='gray'); \n",
    "plt.axis('off')\n",
    "\n",
    "\n"
   ]
  },
  {
   "cell_type": "code",
   "execution_count": 335,
   "metadata": {
    "collapsed": false
   },
   "outputs": [],
   "source": [
    "scores = solver.net.blobs['score'].data\n",
    "actual_labels = solver.net.blobs['label'].data"
   ]
  },
  {
   "cell_type": "code",
   "execution_count": 336,
   "metadata": {
    "collapsed": false
   },
   "outputs": [
    {
     "name": "stdout",
     "output_type": "stream",
     "text": [
      "CPU times: user 3.16 s, sys: 368 ms, total: 3.52 s\n",
      "Wall time: 2.42 s\n"
     ]
    }
   ],
   "source": [
    "\n",
    "%%time\n",
    "niter = 200\n",
    "test_interval = 10\n",
    "# losses will also be stored in the log\n",
    "train_loss = np.zeros(niter)\n",
    "test_acc = np.zeros(int(np.ceil(niter / test_interval)))\n",
    "output = np.zeros((niter, 8, 10))\n",
    "\n",
    "# the main solver loop\n",
    "for it in range(niter):\n",
    "    solver.step(1)  # SGD by Caffe\n",
    "    \n",
    "    # store the train loss\n",
    "    train_loss[it] = solver.net.blobs['loss'].data\n",
    "    \n",
    "    # store the output on the first test batch\n",
    "    # (start the forward pass at conv1 to avoid loading new data)\n",
    "    solver.test_nets[0].forward(start='data')\n",
    "    output[it] = solver.test_nets[0].blobs['score'].data[:8]\n",
    "    \n",
    "    # run a full test every so often\n",
    "    # (Caffe can also do this for us and write to a log, but we show here\n",
    "    #  how to do it directly in Python, where more complicated things are easier.)\n",
    "    if it % test_interval == 0:\n",
    "#        print 'Iteration', it, 'testing...'\n",
    "        correct = 0\n",
    "        for test_it in range(100):\n",
    "            solver.test_nets[0].forward()\n",
    "            correct += sum(solver.test_nets[0].blobs['score'].data.argmax(1)\n",
    "                           == solver.test_nets[0].blobs['label'].data)\n",
    "        test_acc[it // test_interval] = correct / 1e4\n"
   ]
  },
  {
   "cell_type": "code",
   "execution_count": 337,
   "metadata": {
    "collapsed": false
   },
   "outputs": [
    {
     "data": {
      "text/plain": [
       "<matplotlib.text.Text at 0x7fdb9bb1c790>"
      ]
     },
     "execution_count": 337,
     "metadata": {},
     "output_type": "execute_result"
    },
    {
     "data": {
      "image/png": "[encoded data removed]",
      "text/plain": [
       "<matplotlib.figure.Figure at 0x7fdb9bb42b90>"
      ]
     },
     "metadata": {},
     "output_type": "display_data"
    }
   ],
   "source": [
    "_, ax1 = plt.subplots()\n",
    "ax2 = ax1.twinx()\n",
    "ax1.plot(np.arange(niter), train_loss)\n",
    "ax2.plot(test_interval * np.arange(len(test_acc)), test_acc, 'r')\n",
    "ax1.set_xlabel('iteration')\n",
    "ax1.set_ylabel('train loss')\n",
    "ax2.set_ylabel('test accuracy')\n",
    "ax2.set_title('Test Accuracy: {:.2f}'.format(test_acc[-1]))"
   ]
  },
  {
   "cell_type": "code",
   "execution_count": 262,
   "metadata": {
    "collapsed": false,
    "scrolled": false
   },
   "outputs": [
    {
     "name": "stdout",
     "output_type": "stream",
     "text": [
      "solver.iter: 2100\n"
     ]
    },
    {
     "data": {
      "image/png": "[encoded data removed]",
      "text/plain": [
       "<matplotlib.figure.Figure at 0x7fdba0fb28d0>"
      ]
     },
     "metadata": {},
     "output_type": "display_data"
    },
    {
     "data": {
      "image/png": "[encoded data removed]",
      "text/plain": [
       "<matplotlib.figure.Figure at 0x7fdba9d86a90>"
      ]
     },
     "metadata": {},
     "output_type": "display_data"
    },
    {
     "name": "stdout",
     "output_type": "stream",
     "text": [
      "train labels: [ 6.  3.  0.  7.  5.  6.  8.  9.]\n",
      "solver.iter: 2300\n"
     ]
    },
    {
     "data": {
      "image/png": "[encoded data removed]",
      "text/plain": [
       "<matplotlib.figure.Figure at 0x7fdb8c96c6d0>"
      ]
     },
     "metadata": {},
     "output_type": "display_data"
    },
    {
     "data": {
      "image/png": "[encoded data removed]",
      "text/plain": [
       "<matplotlib.figure.Figure at 0x7fdba1aa4ed0>"
      ]
     },
     "metadata": {},
     "output_type": "display_data"
    },
    {
     "name": "stdout",
     "output_type": "stream",
     "text": [
      "train labels: [ 0.  1.  1.  7.  6.  1.  0.  1.]\n",
      "solver.iter: 2500\n"
     ]
    },
    {
     "data": {
      "image/png": "[encoded data removed]",
      "text/plain": [
       "<matplotlib.figure.Figure at 0x7fdb8cbf0a90>"
      ]
     },
     "metadata": {},
     "output_type": "display_data"
    },
    {
     "data": {
      "image/png": "[encoded data removed]",
      "text/plain": [
       "<matplotlib.figure.Figure at 0x7fdba14c16d0>"
      ]
     },
     "metadata": {},
     "output_type": "display_data"
    },
    {
     "name": "stdout",
     "output_type": "stream",
     "text": [
      "train labels: [ 7.  7.  0.  0.  1.  3.  9.  1.]\n"
     ]
    }
   ],
   "source": [
    "\n",
    "for _ in range(3):\n",
    "#    solver.net.forward(start='conv1')\n",
    "    solver.step(200)\n",
    "    print \"solver.iter: %i\" % solver.iter\n",
    "        \n",
    "    plt.imshow(solver.net.blobs['data'].data[:8, 0].transpose(1, 0, 2).reshape(28, 8*28), cmap='gray'); \n",
    "    plt.axis('off')\n",
    "    plt.show()    \n",
    "#    scores = solver.net.blobs['score'].data\n",
    "    scores = solver.net.blobs['score'].data[:8]\n",
    "    \n",
    "    w = 8\n",
    "    h = 1\n",
    "#    h = np.ceil(BATCH_SIZE / float(w))\n",
    "    fig = plt.figure(figsize=(10,1))\n",
    "    for i in range(8):\n",
    "        plt.subplot(h,w,i+1)\n",
    "        plt.bar(range(len(scores[i,:])), scores[i,:] * (1*scores[i,:]>0))\n",
    "        plt.hold(True)\n",
    "        x_actual = [actual_labels[i], actual_labels[i]]\n",
    "        y_actual = [0, abs(scores[i,int(actual_labels[i])])]\n",
    "        plt.bar(x_actual, y_actual, color='r')\n",
    "        plt.yticks([])\n",
    "        plt.xticks([])\n",
    "    \n",
    "    plt.show()\n",
    "    \n",
    "    print 'train labels:', solver.net.blobs['label'].data[:8]\n"
   ]
  },
  {
   "cell_type": "code",
   "execution_count": null,
   "metadata": {
    "collapsed": true
   },
   "outputs": [],
   "source": [
    "x_actual = [0, scores[0,int(actual_labels[0])]]\n",
    "y_actual = [actual_labels[0], actual_labels[0]]"
   ]
  },
  {
   "cell_type": "code",
   "execution_count": 132,
   "metadata": {
    "collapsed": false
   },
   "outputs": [
    {
     "data": {
      "text/plain": [
       "[185.0, 185.0]"
      ]
     },
     "execution_count": 132,
     "metadata": {},
     "output_type": "execute_result"
    }
   ],
   "source": [
    "[actual_labels[0], actual_labels[0]], "
   ]
  },
  {
   "cell_type": "code",
   "execution_count": 177,
   "metadata": {
    "collapsed": false
   },
   "outputs": [
    {
     "data": {
      "text/plain": [
       "1000"
      ]
     },
     "execution_count": 177,
     "metadata": {},
     "output_type": "execute_result"
    }
   ],
   "source": [
    "len(scores[i,:])"
   ]
  },
  {
   "cell_type": "code",
   "execution_count": null,
   "metadata": {
    "collapsed": false
   },
   "outputs": [],
   "source": []
  },
  {
   "cell_type": "code",
   "execution_count": null,
   "metadata": {
    "collapsed": true
   },
   "outputs": [],
   "source": []
  }
 ],
 "metadata": {
  "kernelspec": {
   "display_name": "Python 2",
   "language": "python",
   "name": "python2"
  },
  "language_info": {
   "codemirror_mode": {
    "name": "ipython",
    "version": 2
   },
   "file_extension": ".py",
   "mimetype": "text/x-python",
   "name": "python",
   "nbconvert_exporter": "python",
   "pygments_lexer": "ipython2",
   "version": "2.7.11"
  }
 },
 "nbformat": 4,
 "nbformat_minor": 0
}
