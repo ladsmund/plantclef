{
 "cells": [
  {
   "cell_type": "code",
   "execution_count": 1,
   "metadata": {
    "collapsed": true
   },
   "outputs": [],
   "source": [
    "import os\n",
    "import numpy as np\n",
    "import matplotlib.pyplot as plt\n",
    "import lmdb\n",
    "import pickle\n",
    "%matplotlib inline"
   ]
  },
  {
   "cell_type": "code",
   "execution_count": null,
   "metadata": {
    "collapsed": true
   },
   "outputs": [],
   "source": []
  },
  {
   "cell_type": "code",
   "execution_count": 106,
   "metadata": {
    "collapsed": false
   },
   "outputs": [],
   "source": [
    "\n",
    "\n",
    "exp = dict(\n",
    "    source = 'img',\n",
    "    name = 'raw l:conv4 c:conv5',\n",
    "    batch_size = 400,\n",
    "    node = '1',\n",
    "    transfer = 'conv4',\n",
    "    lock = 'conv4',\n",
    "    clean = 'conv5',\n",
    "    data = dict(a=4)\n",
    ")\n",
    "\n",
    "exp_serial = pickle.dumps(exp)\n",
    "exp2 = pickle.loads(exp_serial)\n"
   ]
  },
  {
   "cell_type": "code",
   "execution_count": 111,
   "metadata": {
    "collapsed": true
   },
   "outputs": [],
   "source": [
    "def create_id(exp):\n",
    "    tmp = []\n",
    "    tmp.append(exp.get('source',''))\n",
    "    tmp.append(\"t:\"+str(exp.get('transfer','')))\n",
    "    tmp.append(\"l:\"+str(exp.get('lock','')))\n",
    "    tmp.append(\"c:\"+str(exp.get('clean','')))\n",
    "    tmp.append(\"n:\"+str(exp.get('node','')))\n",
    "    tmp.append(\"bs:\"+str(exp.get('batch_size','')))\n",
    "    return \"_\".join(tmp)"
   ]
  },
  {
   "cell_type": "code",
   "execution_count": 112,
   "metadata": {
    "collapsed": false
   },
   "outputs": [
    {
     "name": "stdout",
     "output_type": "stream",
     "text": [
      "img_t:conv4_l:conv4_c:conv5_n:1_bs:400\n"
     ]
    }
   ],
   "source": [
    "print create_id(exp)"
   ]
  },
  {
   "cell_type": "code",
   "execution_count": 29,
   "metadata": {
    "collapsed": false
   },
   "outputs": [],
   "source": [
    "db_path = \"results_lmdb\"\n",
    "\n",
    "\n",
    "env = lmdb.open(db_path)\n",
    "\n",
    "with env.begin(write=True) as txn:\n",
    "    txn.replace\n",
    "\n",
    "\n",
    "# conn = sqlite3.connect(db_path)\n",
    "# c = conn.cursor()\n",
    "# c.execute(\"DROP TABLE IF EXISTS experiments\")\n",
    "# c.execute(\"\"\"\n",
    "# CREATE TABLE IF NOT EXISTS experiments (\n",
    "# id INTEGER PRIMARY KEY, \n",
    "# source TEXT,\n",
    "# layer_config TEXT,\n",
    "# batch_size INTEGER,\n",
    "# computer TEXT\n",
    "# )\"\"\")\n",
    "\n",
    "pass"
   ]
  },
  {
   "cell_type": "code",
   "execution_count": 25,
   "metadata": {
    "collapsed": false
   },
   "outputs": [
    {
     "data": {
      "text/plain": [
       "<sqlite3.Cursor at 0x1052f6730>"
      ]
     },
     "execution_count": 25,
     "metadata": {},
     "output_type": "execute_result"
    }
   ],
   "source": []
  },
  {
   "cell_type": "code",
   "execution_count": null,
   "metadata": {
    "collapsed": true
   },
   "outputs": [],
   "source": []
  }
 ],
 "metadata": {
  "kernelspec": {
   "display_name": "Python 2",
   "language": "python",
   "name": "python2"
  },
  "language_info": {
   "codemirror_mode": {
    "name": "ipython",
    "version": 2
   },
   "file_extension": ".py",
   "mimetype": "text/x-python",
   "name": "python",
   "nbconvert_exporter": "python",
   "pygments_lexer": "ipython2",
   "version": "2.7.10"
  },
  "widgets": {
   "state": {},
   "version": "1.1.1"
  }
 },
 "nbformat": 4,
 "nbformat_minor": 0
}
