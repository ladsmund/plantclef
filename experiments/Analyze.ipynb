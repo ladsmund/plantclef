{
 "cells": [
  {
   "cell_type": "code",
   "execution_count": 1,
   "metadata": {
    "collapsed": true
   },
   "outputs": [],
   "source": [
    "import os\n",
    "import sys\n",
    "import shutil\n",
    "\n",
    "import numpy as np\n",
    "\n",
    "import matplotlib.pyplot as plt\n",
    "import urllib, json\n",
    "%matplotlib inline\n",
    "from IPython.display import display, Markdown, Latex\n",
    "import tabulate\n",
    "\n",
    "import re\n",
    "import operator\n",
    "from itertools import izip\n",
    "\n",
    "#sys.path.append('../mcl/')\n",
    "#from utilitites.digits_interface import load_digits_model"
   ]
  },
  {
   "cell_type": "code",
   "execution_count": 62,
   "metadata": {
    "collapsed": true
   },
   "outputs": [],
   "source": [
    "import os\n",
    "import sqlite3\n",
    "import matplotlib.pyplot as plt\n",
    "\n",
    "\n",
    "experiments_folder = './'\n",
    "db_path = os.path.join(experiments_folder, 'experiments.db')\n",
    "data_folder = os.path.join(experiments_folder, 'data')\n",
    "\n",
    "\n",
    "db = sqlite3.Connection(db_path)"
   ]
  },
  {
   "cell_type": "code",
   "execution_count": 74,
   "metadata": {
    "collapsed": true
   },
   "outputs": [],
   "source": [
    "\n",
    "query_params = '''\n",
    "SELECT net_id,  \n",
    "\t\t\t  sum((1-lock)*nparams) nparams_free,\n",
    "\t\t\t  sum(lock*nparams) nparams_locked,\n",
    "\t\t\t  sum(trans * nparams) nparams_trans,\n",
    "\t\t\t  sum(nparams) nparams\n",
    "FROM layers\n",
    "GROUP BY net_id\n",
    "'''"
   ]
  },
  {
   "cell_type": "code",
   "execution_count": 75,
   "metadata": {
    "collapsed": false
   },
   "outputs": [
    {
     "data": {
      "text/plain": [
       "<matplotlib.text.Text at 0x117fd08d0>"
      ]
     },
     "execution_count": 75,
     "metadata": {},
     "output_type": "execute_result"
    },
    {
     "data": {
      "image/png": "[encoded data removed]",
      "text/plain": [
       "<matplotlib.figure.Figure at 0x117655350>"
      ]
     },
     "metadata": {},
     "output_type": "display_data"
    }
   ],
   "source": [
    "query = '''\n",
    "        SELECT net_id, name, nparams_free, accuracy_val_last accuracy, progress, nparams_trans                \n",
    "        FROM networks NATURAL JOIN (%s)\n",
    "        WHERE nparams < 4E8                \n",
    "        GROUP BY net_id        \n",
    "        ''' % (query_params)\n",
    "\n",
    "default_color = 'black'\n",
    "source_color_map = {\n",
    "    'a4_m2_s1s2_f2':'yellow',\n",
    "    'a4_m3_s1s2s4_f2':'blue',\n",
    "    'a4_m2_s1s2s4s8_f2':'green',\n",
    "    'raw':'red'\n",
    "}\n",
    "\n",
    "plt.figure(figsize=(10,4))\n",
    "for r in db.execute(query):\n",
    "    nparams = r[2]\n",
    "    accuracy = r[3]\n",
    "    transfer_layers = r[5]        \n",
    "    progress = r[4]\n",
    "    \n",
    "    color = source_color_map.get(r[1].split()[0], default_color)    \n",
    "    \n",
    "    if r[1] == 'raw l:fc7 c:fc8':\n",
    "        color = 'pink'        \n",
    "    \n",
    "    plt.scatter(nparams, accuracy,c=color,s=progress)    \n",
    "plt.xlabel('Number of parameters')\n",
    "plt.ylabel('Accuracy')"
   ]
  },
  {
   "cell_type": "code",
   "execution_count": 76,
   "metadata": {
    "collapsed": false
   },
   "outputs": [
    {
     "name": "stdout",
     "output_type": "stream",
     "text": [
      "(u'20160624-182808-811a', u'raw Alex t:fc7 c:fc8', 60830023, 0.505833)\n",
      "(u'20160625-001322-6968', u'raw Alex t:conv4 c:conv5', 60830023, 0.473929)\n",
      "(u'20160704-065721-1c42', u'raw Alex l:conv5 c:conv6', 58495943, 0.421875)\n",
      "(u'20160704-090616-ca2e', u'raw AlexNetTransfer', 60830023, 0.472957)\n",
      "(u'20160704-104545-8c3e', u'raw caffenet_trans_cleanFF_lockConv_new', 58495943, 0.499524)\n",
      "(u'20160705-072003-d85d', u'raw l:fc7 c:fc8', 3961799, 0.439167)\n",
      "(u'20160705-075154-d89f', u'raw l:conv4 c:conv5', 58938567, 0.503452)\n",
      "(u'20160705-091349-2744', u'raw t:fc7 l:conv4 c:fc8', 58938567, 0.526548)\n",
      "(u'20160705-131412-ff07', u'raw l:conv4 c:conv5', 58938567, 0.480714)\n",
      "(u'20160705-214703-ac3e', u'raw t:conv3 c:conv4', 60830023, 0.485714)\n",
      "(u'20160705-214733-e267', u'raw t:conv2 c:conv3', 60830023, 0.458809)\n",
      "(u'20160705-214758-e0a4', u'raw l:conv3 c:conv4', 59602503, 0.483929)\n",
      "(u'20160705-214810-44a7', u'raw l:conv2 c:conv3', 60487623, 0.459881)\n",
      "(u'20160708-003123-0d2e', u'raw Alex l:fc7 c:fc8', 3961799, 0.411298)\n",
      "(u'20160708-003847-e5ae', u'raw l:fc7 c:fc8', 3961799, 0.438941)\n"
     ]
    },
    {
     "data": {
      "text/plain": [
       "<matplotlib.figure.Figure at 0x1179f0b50>"
      ]
     },
     "metadata": {},
     "output_type": "display_data"
    }
   ],
   "source": [
    "query = '''\n",
    "        SELECT net_id, name, sum(layers.nparams) nparams, accuracy_val_last accuracy        \n",
    "        FROM layers NATURAL JOIN networks\n",
    "        WHERE lock<1 AND nparams < 4E8 AND accuracy > .4\n",
    "        GROUP BY net_id        \n",
    "        '''\n",
    "\n",
    "plt.figure(figsize=(10,4))\n",
    "for r in db.execute(query):\n",
    "    print r    "
   ]
  },
  {
   "cell_type": "code",
   "execution_count": null,
   "metadata": {
    "collapsed": true
   },
   "outputs": [],
   "source": []
  }
 ],
 "metadata": {
  "kernelspec": {
   "display_name": "Python 2",
   "language": "python",
   "name": "python2"
  },
  "language_info": {
   "codemirror_mode": {
    "name": "ipython",
    "version": 2
   },
   "file_extension": ".py",
   "mimetype": "text/x-python",
   "name": "python",
   "nbconvert_exporter": "python",
   "pygments_lexer": "ipython2",
   "version": "2.7.10"
  },
  "widgets": {
   "state": {},
   "version": "1.1.1"
  }
 },
 "nbformat": 4,
 "nbformat_minor": 0
}
